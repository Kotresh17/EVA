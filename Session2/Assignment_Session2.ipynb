{
  "nbformat": 4,
  "nbformat_minor": 0,
  "metadata": {
    "colab": {
      "name": "Assignment_Session2.ipynb",
      "version": "0.3.2",
      "provenance": [],
      "collapsed_sections": []
    },
    "kernelspec": {
      "name": "python3",
      "display_name": "Python 3"
    },
    "accelerator": "GPU"
  },
  "cells": [
    {
      "cell_type": "code",
      "metadata": {
        "id": "XHhf-EN0co-Q",
        "colab_type": "code",
        "outputId": "9bad03c3-76ba-447b-b626-be3bddc0fff3",
        "colab": {
          "base_uri": "https://localhost:8080/",
          "height": 34
        }
      },
      "source": [
        "import keras "
      ],
      "execution_count": 1,
      "outputs": [
        {
          "output_type": "stream",
          "text": [
            "Using TensorFlow backend.\n"
          ],
          "name": "stderr"
        }
      ]
    },
    {
      "cell_type": "code",
      "metadata": {
        "id": "XUJAPDROc0TH",
        "colab_type": "code",
        "colab": {}
      },
      "source": [
        "#importing the necessary packages\n",
        "import numpy as np \n",
        "\n",
        "from keras.models import Sequential\n",
        "from keras.layers import Flatten\n",
        "from keras.layers import Convolution2D\n",
        "from keras.utils import np_utils\n",
        "import warnings\n",
        "warnings.filterwarnings(\"ignore\")\n",
        "\n",
        "from keras.datasets import mnist "
      ],
      "execution_count": 0,
      "outputs": []
    },
    {
      "cell_type": "code",
      "metadata": {
        "id": "h1trSxFtc7EB",
        "colab_type": "code",
        "outputId": "e14d28b7-9672-4b7d-f4d8-89079f0979a4",
        "colab": {
          "base_uri": "https://localhost:8080/",
          "height": 51
        }
      },
      "source": [
        "#loading the mnist dataset from keras \n",
        "(X_train, y_train), (X_test, y_test) = mnist.load_data()"
      ],
      "execution_count": 3,
      "outputs": [
        {
          "output_type": "stream",
          "text": [
            "Downloading data from https://s3.amazonaws.com/img-datasets/mnist.npz\n",
            "11493376/11490434 [==============================] - 1s 0us/step\n"
          ],
          "name": "stdout"
        }
      ]
    },
    {
      "cell_type": "code",
      "metadata": {
        "id": "TOpsblfkc9zf",
        "colab_type": "code",
        "outputId": "9199f062-26cb-4231-ef80-9c8253f2a53a",
        "colab": {
          "base_uri": "https://localhost:8080/",
          "height": 303
        }
      },
      "source": [
        "print (X_train.shape) #displaying the dimension of the dataset \n",
        "from matplotlib import pyplot as plt\n",
        "%matplotlib inline\n",
        "plt.imshow(X_train[0], cmap='gray') #plotting the first sample in the training data"
      ],
      "execution_count": 4,
      "outputs": [
        {
          "output_type": "stream",
          "text": [
            "(60000, 28, 28)\n"
          ],
          "name": "stdout"
        },
        {
          "output_type": "execute_result",
          "data": {
            "text/plain": [
              "<matplotlib.image.AxesImage at 0x7f0acbd79dd8>"
            ]
          },
          "metadata": {
            "tags": []
          },
          "execution_count": 4
        },
        {
          "output_type": "display_data",
          "data": {
            "image/png": "[encoded data removed]",
            "text/plain": [
              "<Figure size 432x288 with 1 Axes>"
            ]
          },
          "metadata": {
            "tags": []
          }
        }
      ]
    },
    {
      "cell_type": "code",
      "metadata": {
        "id": "9r6Y1Ec7dAyG",
        "colab_type": "code",
        "colab": {}
      },
      "source": [
        "X_train = X_train.reshape(X_train.shape[0], 28, 28,1) #reshaping the train data from (60000, 28, 28) to (60000, 28, 28, 1) because its gray scale image\n",
        "X_test = X_test.reshape(X_test.shape[0], 28, 28,1) #reshaping the testdata from from (10000, 28, 28) to (10000, 28, 28, 1)"
      ],
      "execution_count": 0,
      "outputs": []
    },
    {
      "cell_type": "code",
      "metadata": {
        "id": "iwiw6OoddEjW",
        "colab_type": "code",
        "colab": {}
      },
      "source": [
        "X_train = X_train.astype('float32') #converting the X_train matrices to float32 datatype\n",
        "X_test = X_test.astype('float32') #converting the X_train matrices to float32 datatype\n",
        "X_train /= 255 # normalizing the pixel values in range [0,1]\n",
        "X_test /= 255 # normalizing the pixel values in range [0,1]"
      ],
      "execution_count": 0,
      "outputs": []
    },
    {
      "cell_type": "code",
      "metadata": {
        "id": "007SyWZcdGrb",
        "colab_type": "code",
        "outputId": "515001af-18bc-426f-b1d1-6d0fd338a2ac",
        "colab": {
          "base_uri": "https://localhost:8080/",
          "height": 34
        }
      },
      "source": [
        "y_train[:10] #printing the first ten labels for the first ten images in the training data"
      ],
      "execution_count": 14,
      "outputs": [
        {
          "output_type": "execute_result",
          "data": {
            "text/plain": [
              "array([5, 0, 4, 1, 9, 2, 1, 3, 1, 4], dtype=uint8)"
            ]
          },
          "metadata": {
            "tags": []
          },
          "execution_count": 14
        }
      ]
    },
    {
      "cell_type": "code",
      "metadata": {
        "id": "DNlx8iL5dIzH",
        "colab_type": "code",
        "colab": {}
      },
      "source": [
        "# Convert 1-dimensional class arrays to 10-dimensional class matrices\n",
        "Y_train = np_utils.to_categorical(y_train, 10)\n",
        "Y_test = np_utils.to_categorical(y_test, 10)"
      ],
      "execution_count": 0,
      "outputs": []
    },
    {
      "cell_type": "code",
      "metadata": {
        "id": "aHeblSCNdNw7",
        "colab_type": "code",
        "outputId": "31352e1e-dad9-41b3-9120-b601b79a0a39",
        "colab": {
          "base_uri": "https://localhost:8080/",
          "height": 187
        }
      },
      "source": [
        "Y_train[:10] # printing the first ten one hot encoded labels in the training data\n"
      ],
      "execution_count": 16,
      "outputs": [
        {
          "output_type": "execute_result",
          "data": {
            "text/plain": [
              "array([[0., 0., 0., 0., 0., 1., 0., 0., 0., 0.],\n",
              "       [1., 0., 0., 0., 0., 0., 0., 0., 0., 0.],\n",
              "       [0., 0., 0., 0., 1., 0., 0., 0., 0., 0.],\n",
              "       [0., 1., 0., 0., 0., 0., 0., 0., 0., 0.],\n",
              "       [0., 0., 0., 0., 0., 0., 0., 0., 0., 1.],\n",
              "       [0., 0., 1., 0., 0., 0., 0., 0., 0., 0.],\n",
              "       [0., 1., 0., 0., 0., 0., 0., 0., 0., 0.],\n",
              "       [0., 0., 0., 1., 0., 0., 0., 0., 0., 0.],\n",
              "       [0., 1., 0., 0., 0., 0., 0., 0., 0., 0.],\n",
              "       [0., 0., 0., 0., 1., 0., 0., 0., 0., 0.]], dtype=float32)"
            ]
          },
          "metadata": {
            "tags": []
          },
          "execution_count": 16
        }
      ]
    },
    {
      "cell_type": "code",
      "metadata": {
        "id": "1aU4sBiXdQAC",
        "colab_type": "code",
        "outputId": "6e6d262d-9d90-4f88-8294-fada99844194",
        "colab": {
          "base_uri": "https://localhost:8080/",
          "height": 510
        }
      },
      "source": [
        "from keras.layers import Activation, MaxPooling2D #importing the activation function and maxpooling  \n",
        "\n",
        "model = Sequential() # to make the layers sequentially like stacking the upcomming layers linearly\n",
        "#adding convolution2d layer as a first layer in the network eith 32 kernels with size (3 X 3) and activation functionas as relu for the input image dimension (28 X 28 X 1) \n",
        "model.add(Convolution2D(32, 3, 3, activation='relu', input_shape=(28,28,1))) \n",
        "#Receptive field would be (3 X 3), Input shape (28 X 28 X 1) output shape (26 X 26 X 32)\n",
        "\n",
        "#adding the one more convolutional layer for the input shape (26 X 26 X 32) with relu as a activation function and 64 kernels of size (3 X 3)\n",
        "model.add(Convolution2D(64, 3, 3, activation='relu'))\n",
        "#Receptive field would be (5 X 5), Input shape (26 X 26 X 32) output shape (24 X 24 X 64)\n",
        "\n",
        "#adding the one more convolutional layer for the input shape (24 X 24 X 64) with relu as a activation function and 128 kernels of size (3 X 3)\n",
        "model.add(Convolution2D(128, 3, 3, activation='relu'))\n",
        "#Receptive field would be (7 X 7) Input shape (24 X 24 X 64) output shape (22 X 22 X 128)\n",
        "\n",
        "#adding the maxpooling layer of pool size (2 X 2) for the input shape (22 X 22 X 128) with stride 2\n",
        "model.add(MaxPooling2D(pool_size=(2, 2)))\n",
        "#Receptive field would be (14 X 14) Input shape (22 X 22 X 128) output shape (11 X 11 X 128)\n",
        "\n",
        "#adding the one more convolutional layer for the input shape (11 X 11 X 128) with relu as a activation function and 256 kernels of size (3 X 3)\n",
        "model.add(Convolution2D(256, 3, 3, activation='relu'))\n",
        "#Receptive field would be (16 X 16) Input shape (11 X 11 X 128) output shape (9 X 9 X 256)\n",
        "\n",
        "#adding the one more convolutional layer for the input shape (9 X 9 X 256) with relu as a activation function and 512 kernels of size (3 X 3)\n",
        "model.add(Convolution2D(512, 3, 3, activation='relu'))\n",
        "#Receptive field would be (18 X 18) Input shape (9 X 9 X 256) output shape (7 X 7 X 512)\n",
        "\n",
        "#adding the one more convolutional layer for the input shape (7 X 7 X 512) with relu as a activation function and 1024 kernels of size (3 X 3)\n",
        "model.add(Convolution2D(1024, 3, 3, activation='relu'))\n",
        "#Receptive field would be (20 X 20) Input shape (7 X 7 X 512) output shape (5 X 5 X 1024)\n",
        "\n",
        "#adding the one more convolutional layer for the input shape (5 X 5 X 1024) with relu as a activation function and 2048 kernels of size (3 X 3)\n",
        "model.add(Convolution2D(2048, 3, 3, activation='relu'))\n",
        "#Receptive field would be (22 X 22) Input shape (5 X 5 X  1024) output shape (3 X 3 X 2048)\n",
        "\n",
        "#adding the one more convolutional layer for the input shape (3 X 3 X 2048) with relu as a activation function and 10 kernels of size (3 X 3)\n",
        "model.add(Convolution2D(10, 3, 3, activation='relu' ))\n",
        "#Receptive field would be (24 X 24) Input shape (3 X 3 X  2048) output shape (1 X 1 X 10)\n",
        "\n",
        "#flattening the three dimension matrix to one vector and adding softmax to classsify\n",
        "model.add(Flatten()) \n",
        "model.add(Activation('softmax'))\n",
        "\n",
        "model.summary()"
      ],
      "execution_count": 17,
      "outputs": [
        {
          "output_type": "stream",
          "text": [
            "_________________________________________________________________\n",
            "Layer (type)                 Output Shape              Param #   \n",
            "=================================================================\n",
            "conv2d_9 (Conv2D)            (None, 26, 26, 32)        320       \n",
            "_________________________________________________________________\n",
            "conv2d_10 (Conv2D)           (None, 24, 24, 64)        18496     \n",
            "_________________________________________________________________\n",
            "conv2d_11 (Conv2D)           (None, 22, 22, 128)       73856     \n",
            "_________________________________________________________________\n",
            "max_pooling2d_2 (MaxPooling2 (None, 11, 11, 128)       0         \n",
            "_________________________________________________________________\n",
            "conv2d_12 (Conv2D)           (None, 9, 9, 256)         295168    \n",
            "_________________________________________________________________\n",
            "conv2d_13 (Conv2D)           (None, 7, 7, 512)         1180160   \n",
            "_________________________________________________________________\n",
            "conv2d_14 (Conv2D)           (None, 5, 5, 1024)        4719616   \n",
            "_________________________________________________________________\n",
            "conv2d_15 (Conv2D)           (None, 3, 3, 2048)        18876416  \n",
            "_________________________________________________________________\n",
            "conv2d_16 (Conv2D)           (None, 1, 1, 10)          184330    \n",
            "_________________________________________________________________\n",
            "flatten_2 (Flatten)          (None, 10)                0         \n",
            "_________________________________________________________________\n",
            "activation_2 (Activation)    (None, 10)                0         \n",
            "=================================================================\n",
            "Total params: 25,348,362\n",
            "Trainable params: 25,348,362\n",
            "Non-trainable params: 0\n",
            "_________________________________________________________________\n"
          ],
          "name": "stdout"
        }
      ]
    },
    {
      "cell_type": "code",
      "metadata": {
        "id": "khtDvEVwdSxS",
        "colab_type": "code",
        "colab": {}
      },
      "source": [
        "\n",
        "#compiling the model with loss categorical cross entropy and optimizer adam and acuuracy as metric\n",
        "model.compile(loss='categorical_crossentropy',\n",
        "             optimizer='adam',\n",
        "             metrics=['accuracy'])"
      ],
      "execution_count": 0,
      "outputs": []
    },
    {
      "cell_type": "code",
      "metadata": {
        "id": "ZsN8Pl9ZdVMV",
        "colab_type": "code",
        "outputId": "f8853a25-e228-4027-e22d-eccdecf2521e",
        "colab": {
          "base_uri": "https://localhost:8080/",
          "height": 445
        }
      },
      "source": [
        "#train the model with batchsize 32 and for 10 epochs\n",
        "model.fit(X_train, Y_train, batch_size=32, nb_epoch=10, verbose=1)"
      ],
      "execution_count": 19,
      "outputs": [
        {
          "output_type": "stream",
          "text": [
            "WARNING:tensorflow:From /usr/local/lib/python3.6/dist-packages/tensorflow/python/ops/math_ops.py:3066: to_int32 (from tensorflow.python.ops.math_ops) is deprecated and will be removed in a future version.\n",
            "Instructions for updating:\n",
            "Use tf.cast instead.\n",
            "Epoch 1/10\n",
            "60000/60000 [==============================] - 117s 2ms/step - loss: 2.3026 - acc: 0.0994\n",
            "Epoch 2/10\n",
            "60000/60000 [==============================] - 111s 2ms/step - loss: 2.3026 - acc: 0.0987\n",
            "Epoch 3/10\n",
            "60000/60000 [==============================] - 111s 2ms/step - loss: 2.3026 - acc: 0.0987\n",
            "Epoch 4/10\n",
            "60000/60000 [==============================] - 111s 2ms/step - loss: 2.3026 - acc: 0.0987\n",
            "Epoch 5/10\n",
            "60000/60000 [==============================] - 111s 2ms/step - loss: 2.3026 - acc: 0.0987\n",
            "Epoch 6/10\n",
            "60000/60000 [==============================] - 111s 2ms/step - loss: 2.3026 - acc: 0.0987\n",
            "Epoch 7/10\n",
            "60000/60000 [==============================] - 111s 2ms/step - loss: 2.3026 - acc: 0.0987\n",
            "Epoch 8/10\n",
            "60000/60000 [==============================] - 111s 2ms/step - loss: 2.3026 - acc: 0.0987\n",
            "Epoch 9/10\n",
            "60000/60000 [==============================] - 111s 2ms/step - loss: 2.3026 - acc: 0.0987\n",
            "Epoch 10/10\n",
            "60000/60000 [==============================] - 111s 2ms/step - loss: 2.3026 - acc: 0.0987\n"
          ],
          "name": "stdout"
        },
        {
          "output_type": "execute_result",
          "data": {
            "text/plain": [
              "<keras.callbacks.History at 0x7f0ac8b1f8d0>"
            ]
          },
          "metadata": {
            "tags": []
          },
          "execution_count": 19
        }
      ]
    },
    {
      "cell_type": "code",
      "metadata": {
        "id": "0HZS6SRfdXJ3",
        "colab_type": "code",
        "colab": {}
      },
      "source": [
        "score = model.evaluate(X_test, Y_test, verbose=0) # evaluate the trained model on the test data"
      ],
      "execution_count": 0,
      "outputs": []
    },
    {
      "cell_type": "code",
      "metadata": {
        "id": "zegetjuDdXNt",
        "colab_type": "code",
        "colab": {
          "base_uri": "https://localhost:8080/",
          "height": 34
        },
        "outputId": "73b4a27f-c603-4a57-cf83-ad5b0bb154e8"
      },
      "source": [
        "print(score)"
      ],
      "execution_count": 21,
      "outputs": [
        {
          "output_type": "stream",
          "text": [
            "[2.3025851249694824, 0.098]\n"
          ],
          "name": "stdout"
        }
      ]
    },
    {
      "cell_type": "code",
      "metadata": {
        "id": "WkbgyX4pdXG7",
        "colab_type": "code",
        "colab": {}
      },
      "source": [
        "y_pred = model.predict(X_test)"
      ],
      "execution_count": 0,
      "outputs": []
    },
    {
      "cell_type": "code",
      "metadata": {
        "id": "CDdyWNRadeX8",
        "colab_type": "code",
        "colab": {
          "base_uri": "https://localhost:8080/",
          "height": 187
        },
        "outputId": "556e2f0f-4bd2-47d2-d19f-da620750d733"
      },
      "source": [
        "print(y_pred[:9])\n",
        "print(y_test[:9])"
      ],
      "execution_count": 23,
      "outputs": [
        {
          "output_type": "stream",
          "text": [
            "[[0.1 0.1 0.1 0.1 0.1 0.1 0.1 0.1 0.1 0.1]\n",
            " [0.1 0.1 0.1 0.1 0.1 0.1 0.1 0.1 0.1 0.1]\n",
            " [0.1 0.1 0.1 0.1 0.1 0.1 0.1 0.1 0.1 0.1]\n",
            " [0.1 0.1 0.1 0.1 0.1 0.1 0.1 0.1 0.1 0.1]\n",
            " [0.1 0.1 0.1 0.1 0.1 0.1 0.1 0.1 0.1 0.1]\n",
            " [0.1 0.1 0.1 0.1 0.1 0.1 0.1 0.1 0.1 0.1]\n",
            " [0.1 0.1 0.1 0.1 0.1 0.1 0.1 0.1 0.1 0.1]\n",
            " [0.1 0.1 0.1 0.1 0.1 0.1 0.1 0.1 0.1 0.1]\n",
            " [0.1 0.1 0.1 0.1 0.1 0.1 0.1 0.1 0.1 0.1]]\n",
            "[7 2 1 0 4 1 4 9 5]\n"
          ],
          "name": "stdout"
        }
      ]
    },
    {
      "cell_type": "code",
      "metadata": {
        "id": "3zKePgm85syP",
        "colab_type": "code",
        "colab": {}
      },
      "source": [
        "# I think the model has some issue with the final layer of the network, final layer of the network where we added relu as an activation function\n",
        "#inorder to compare with actual loss value, we are getting only positive values from 0 to infinite from the last layer so the output would be probably\n",
        "#no limits. i think it is difficult to map those loss values"
      ],
      "execution_count": 0,
      "outputs": []
    }
  ]
}