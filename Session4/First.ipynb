{
  "nbformat": 4,
  "nbformat_minor": 0,
  "metadata": {
    "colab": {
      "name": "First",
      "version": "0.3.2",
      "provenance": [],
      "collapsed_sections": []
    },
    "kernelspec": {
      "name": "python3",
      "display_name": "Python 3"
    },
    "accelerator": "GPU"
  },
  "cells": [
    {
      "cell_type": "markdown",
      "metadata": {
        "id": "sshdDqf5FPu8",
        "colab_type": "text"
      },
      "source": [
        "##Import necessary packages and functions"
      ]
    },
    {
      "cell_type": "markdown",
      "metadata": {
        "id": "abLtNb-JyilV",
        "colab_type": "text"
      },
      "source": [
        "## Simple vanilla network"
      ]
    },
    {
      "cell_type": "code",
      "metadata": {
        "id": "7MoojJFhUXqB",
        "colab_type": "code",
        "outputId": "f2a1ff24-a029-4eb0-a792-ae2d058b72ec",
        "colab": {
          "base_uri": "https://localhost:8080/",
          "height": 34
        }
      },
      "source": [
        "import keras\n",
        "import numpy as np\n",
        "from keras.models import Sequential\n",
        "from keras.layers import Dense, Dropout, Activation, Flatten, Add\n",
        "from keras.layers import Convolution2D, MaxPooling2D\n",
        "from keras.layers import BatchNormalization\n",
        "from keras import optimizers\n",
        "from keras.utils import np_utils\n",
        "\n",
        "from keras.datasets import mnist"
      ],
      "execution_count": 0,
      "outputs": [
        {
          "output_type": "stream",
          "text": [
            "Using TensorFlow backend.\n"
          ],
          "name": "stderr"
        }
      ]
    },
    {
      "cell_type": "code",
      "metadata": {
        "id": "oxqgWwlBUo3M",
        "colab_type": "code",
        "outputId": "b155964f-da3a-4de3-d627-f86707dc0faf",
        "colab": {
          "base_uri": "https://localhost:8080/",
          "height": 51
        }
      },
      "source": [
        "#loading the MNIST data\n",
        "(X_train, y_train), (X_test, y_test) = mnist.load_data()"
      ],
      "execution_count": 0,
      "outputs": [
        {
          "output_type": "stream",
          "text": [
            "Downloading data from https://s3.amazonaws.com/img-datasets/mnist.npz\n",
            "11493376/11490434 [==============================] - 0s 0us/step\n"
          ],
          "name": "stdout"
        }
      ]
    },
    {
      "cell_type": "code",
      "metadata": {
        "id": "KtTKJAgmUro0",
        "colab_type": "code",
        "outputId": "b210df85-b640-453b-da48-72d350e1f971",
        "colab": {
          "base_uri": "https://localhost:8080/",
          "height": 303
        }
      },
      "source": [
        "#plotting the sample data\n",
        "print (X_train.shape)\n",
        "from matplotlib import pyplot as plt\n",
        "%matplotlib inline\n",
        "plt.imshow(X_train[7])"
      ],
      "execution_count": 0,
      "outputs": [
        {
          "output_type": "stream",
          "text": [
            "(60000, 28, 28)\n"
          ],
          "name": "stdout"
        },
        {
          "output_type": "execute_result",
          "data": {
            "text/plain": [
              "<matplotlib.image.AxesImage at 0x7f5df5d05828>"
            ]
          },
          "metadata": {
            "tags": []
          },
          "execution_count": 3
        },
        {
          "output_type": "display_data",
          "data": {
            "image/png": "[encoded data removed]",
            "text/plain": [
              "<Figure size 432x288 with 1 Axes>"
            ]
          },
          "metadata": {
            "tags": []
          }
        }
      ]
    },
    {
      "cell_type": "code",
      "metadata": {
        "id": "3Ky5wSAfUwEX",
        "colab_type": "code",
        "colab": {}
      },
      "source": [
        "X_train = X_train.reshape(X_train.shape[0], 28, 28,1)\n",
        "X_test = X_test.reshape(X_test.shape[0], 28, 28,1)"
      ],
      "execution_count": 0,
      "outputs": []
    },
    {
      "cell_type": "code",
      "metadata": {
        "id": "JX-_y5Q1U0zO",
        "colab_type": "code",
        "colab": {}
      },
      "source": [
        "X_train = X_train.astype('float32')\n",
        "X_test = X_test.astype('float32')\n",
        "X_train /= 255\n",
        "X_test /= 255"
      ],
      "execution_count": 0,
      "outputs": []
    },
    {
      "cell_type": "code",
      "metadata": {
        "id": "8jq2yvhdU2js",
        "colab_type": "code",
        "outputId": "b3a9110a-3dfa-4440-85e7-179d270b02a3",
        "colab": {
          "base_uri": "https://localhost:8080/",
          "height": 34
        }
      },
      "source": [
        "y_train[:10]"
      ],
      "execution_count": 0,
      "outputs": [
        {
          "output_type": "execute_result",
          "data": {
            "text/plain": [
              "array([5, 0, 4, 1, 9, 2, 1, 3, 1, 4], dtype=uint8)"
            ]
          },
          "metadata": {
            "tags": []
          },
          "execution_count": 6
        }
      ]
    },
    {
      "cell_type": "code",
      "metadata": {
        "id": "90ezgC5rU4jj",
        "colab_type": "code",
        "colab": {}
      },
      "source": [
        "# Convert 1-dimensional class arrays to 10-dimensional class matrices\n",
        "Y_train = np_utils.to_categorical(y_train, 10)\n",
        "Y_test = np_utils.to_categorical(y_test, 10)"
      ],
      "execution_count": 0,
      "outputs": []
    },
    {
      "cell_type": "code",
      "metadata": {
        "id": "d4VXbFkXU66R",
        "colab_type": "code",
        "outputId": "2b1675f9-3eb8-4bba-c072-957d13c1043d",
        "colab": {
          "base_uri": "https://localhost:8080/",
          "height": 187
        }
      },
      "source": [
        "Y_train[:10]\n"
      ],
      "execution_count": 0,
      "outputs": [
        {
          "output_type": "execute_result",
          "data": {
            "text/plain": [
              "array([[0., 0., 0., 0., 0., 1., 0., 0., 0., 0.],\n",
              "       [1., 0., 0., 0., 0., 0., 0., 0., 0., 0.],\n",
              "       [0., 0., 0., 0., 1., 0., 0., 0., 0., 0.],\n",
              "       [0., 1., 0., 0., 0., 0., 0., 0., 0., 0.],\n",
              "       [0., 0., 0., 0., 0., 0., 0., 0., 0., 1.],\n",
              "       [0., 0., 1., 0., 0., 0., 0., 0., 0., 0.],\n",
              "       [0., 1., 0., 0., 0., 0., 0., 0., 0., 0.],\n",
              "       [0., 0., 0., 1., 0., 0., 0., 0., 0., 0.],\n",
              "       [0., 1., 0., 0., 0., 0., 0., 0., 0., 0.],\n",
              "       [0., 0., 0., 0., 1., 0., 0., 0., 0., 0.]], dtype=float32)"
            ]
          },
          "metadata": {
            "tags": []
          },
          "execution_count": 8
        }
      ]
    },
    {
      "cell_type": "code",
      "metadata": {
        "id": "C336MLfEU8vN",
        "colab_type": "code",
        "outputId": "998b6edd-5854-42aa-e39c-563536eaf68d",
        "colab": {
          "base_uri": "https://localhost:8080/",
          "height": 156
        }
      },
      "source": [
        "from keras.layers import Activation\n",
        "model = Sequential()\n",
        "\n",
        "#input shape (28, 28, 1) \n",
        "model.add(Convolution2D(8,3,3, activation='relu', input_shape=(28,28,1)))\n",
        "#output shape (26, 26, 32), Receptive Field (3 X 3)\n",
        "\n",
        "#input shape (26, 26, 32)\n",
        "model.add(Convolution2D(32,3,3, activation='relu'))\n",
        "#output shape (24, 24, 32), Receptive Field (5 X 5)\n",
        "\n",
        "#input shape (24,24,32)\n",
        "model.add(Convolution2D(10,1,activation='relu'))\n",
        "#output shape (24,24,10), Receptive Field (5 X 5)\n",
        "\n",
        "#input shape (24, 24, 10)\n",
        "model.add(MaxPooling2D(pool_size=(2,2)))\n",
        "#output shape (12, 12, 10), Receptive Field (10 X 10)\n",
        "\n",
        "#input shape (12, 12, 10)\n",
        "model.add(Convolution2D(16,3,3, activation='relu'))\n",
        "#output shape (10, 10, 16), Receptive Field (12 X 12)\n",
        "\n",
        "\n",
        "#input shape (10, 10, 16)\n",
        "model.add(Convolution2D(10,1,activation='relu'))\n",
        "#output shape (10,10,10), Receptive Field (12 X 12)\n",
        "\n",
        "#input shape (10, 10, 10)\n",
        "model.add(Convolution2D(16,3,3,activation='relu'))\n",
        "#output shape (8,8,16), Receptive Field (14 X 14)\n",
        "\n",
        "#input shape (8, 8, 16)\n",
        "model.add(Convolution2D(16,3,3, activation='relu'))\n",
        "#output shape (6,6,16), Receptive Field (16 X 16)\n",
        "\n",
        "\n",
        "model.add(Convolution2D(10,6))\n",
        "model.add(Flatten())\n",
        "model.add(Activation('softmax'))"
      ],
      "execution_count": 0,
      "outputs": [
        {
          "output_type": "stream",
          "text": [
            "/usr/local/lib/python3.6/dist-packages/ipykernel_launcher.py:5: UserWarning: Update your `Conv2D` call to the Keras 2 API: `Conv2D(8, (3, 3), activation=\"relu\", input_shape=(28, 28, 1...)`\n",
            "  \"\"\"\n",
            "/usr/local/lib/python3.6/dist-packages/ipykernel_launcher.py:9: UserWarning: Update your `Conv2D` call to the Keras 2 API: `Conv2D(32, (3, 3), activation=\"relu\")`\n",
            "  if __name__ == '__main__':\n",
            "/usr/local/lib/python3.6/dist-packages/ipykernel_launcher.py:21: UserWarning: Update your `Conv2D` call to the Keras 2 API: `Conv2D(16, (3, 3), activation=\"relu\")`\n",
            "/usr/local/lib/python3.6/dist-packages/ipykernel_launcher.py:30: UserWarning: Update your `Conv2D` call to the Keras 2 API: `Conv2D(16, (3, 3), activation=\"relu\")`\n",
            "/usr/local/lib/python3.6/dist-packages/ipykernel_launcher.py:34: UserWarning: Update your `Conv2D` call to the Keras 2 API: `Conv2D(16, (3, 3), activation=\"relu\")`\n"
          ],
          "name": "stderr"
        }
      ]
    },
    {
      "cell_type": "code",
      "metadata": {
        "id": "MmbZV_hqU-gR",
        "colab_type": "code",
        "outputId": "a76747ce-0c77-4632-b8b3-8723149e2719",
        "colab": {
          "base_uri": "https://localhost:8080/",
          "height": 510
        }
      },
      "source": [
        "model.summary()"
      ],
      "execution_count": 0,
      "outputs": [
        {
          "output_type": "stream",
          "text": [
            "_________________________________________________________________\n",
            "Layer (type)                 Output Shape              Param #   \n",
            "=================================================================\n",
            "conv2d_17 (Conv2D)           (None, 26, 26, 8)         80        \n",
            "_________________________________________________________________\n",
            "conv2d_18 (Conv2D)           (None, 24, 24, 32)        2336      \n",
            "_________________________________________________________________\n",
            "conv2d_19 (Conv2D)           (None, 24, 24, 10)        330       \n",
            "_________________________________________________________________\n",
            "max_pooling2d_3 (MaxPooling2 (None, 12, 12, 10)        0         \n",
            "_________________________________________________________________\n",
            "conv2d_20 (Conv2D)           (None, 10, 10, 16)        1456      \n",
            "_________________________________________________________________\n",
            "conv2d_21 (Conv2D)           (None, 10, 10, 10)        170       \n",
            "_________________________________________________________________\n",
            "conv2d_22 (Conv2D)           (None, 8, 8, 16)          1456      \n",
            "_________________________________________________________________\n",
            "conv2d_23 (Conv2D)           (None, 6, 6, 16)          2320      \n",
            "_________________________________________________________________\n",
            "conv2d_24 (Conv2D)           (None, 1, 1, 10)          5770      \n",
            "_________________________________________________________________\n",
            "flatten_3 (Flatten)          (None, 10)                0         \n",
            "_________________________________________________________________\n",
            "activation_3 (Activation)    (None, 10)                0         \n",
            "=================================================================\n",
            "Total params: 13,918\n",
            "Trainable params: 13,918\n",
            "Non-trainable params: 0\n",
            "_________________________________________________________________\n"
          ],
          "name": "stdout"
        }
      ]
    },
    {
      "cell_type": "code",
      "metadata": {
        "id": "982cn0QbVA5Q",
        "colab_type": "code",
        "colab": {}
      },
      "source": [
        "model.compile(loss='categorical_crossentropy',\n",
        "             optimizer='adam',\n",
        "             metrics=['accuracy'])"
      ],
      "execution_count": 0,
      "outputs": []
    },
    {
      "cell_type": "code",
      "metadata": {
        "id": "zsRf2E78VfvI",
        "colab_type": "code",
        "outputId": "676c153b-0064-4b52-8a30-ddafd3ae632e",
        "colab": {
          "base_uri": "https://localhost:8080/",
          "height": 1088
        }
      },
      "source": [
        "model.fit(X_train, Y_train, batch_size=32, nb_epoch=30, verbose=1)"
      ],
      "execution_count": 0,
      "outputs": [
        {
          "output_type": "stream",
          "text": [
            "/usr/local/lib/python3.6/dist-packages/ipykernel_launcher.py:1: UserWarning: The `nb_epoch` argument in `fit` has been renamed `epochs`.\n",
            "  \"\"\"Entry point for launching an IPython kernel.\n"
          ],
          "name": "stderr"
        },
        {
          "output_type": "stream",
          "text": [
            "Epoch 1/30\n",
            "60000/60000 [==============================] - 22s 365us/step - loss: 0.2246 - acc: 0.9311\n",
            "Epoch 2/30\n",
            "60000/60000 [==============================] - 21s 358us/step - loss: 0.0814 - acc: 0.9750\n",
            "Epoch 3/30\n",
            "60000/60000 [==============================] - 22s 359us/step - loss: 0.0583 - acc: 0.9825\n",
            "Epoch 4/30\n",
            "60000/60000 [==============================] - 22s 363us/step - loss: 0.0467 - acc: 0.9858\n",
            "Epoch 5/30\n",
            "60000/60000 [==============================] - 22s 363us/step - loss: 0.0396 - acc: 0.9880\n",
            "Epoch 6/30\n",
            "60000/60000 [==============================] - 22s 364us/step - loss: 0.0330 - acc: 0.9897\n",
            "Epoch 7/30\n",
            "60000/60000 [==============================] - 22s 364us/step - loss: 0.0297 - acc: 0.9908\n",
            "Epoch 8/30\n",
            "60000/60000 [==============================] - 21s 357us/step - loss: 0.0261 - acc: 0.9917\n",
            "Epoch 9/30\n",
            "60000/60000 [==============================] - 22s 362us/step - loss: 0.0242 - acc: 0.9919\n",
            "Epoch 10/30\n",
            "60000/60000 [==============================] - 22s 363us/step - loss: 0.0211 - acc: 0.9931\n",
            "Epoch 11/30\n",
            "60000/60000 [==============================] - 22s 360us/step - loss: 0.0198 - acc: 0.9938\n",
            "Epoch 12/30\n",
            "60000/60000 [==============================] - 22s 364us/step - loss: 0.0177 - acc: 0.9941\n",
            "Epoch 13/30\n",
            "60000/60000 [==============================] - 22s 361us/step - loss: 0.0154 - acc: 0.9948\n",
            "Epoch 14/30\n",
            "60000/60000 [==============================] - 21s 356us/step - loss: 0.0156 - acc: 0.9948\n",
            "Epoch 15/30\n",
            "60000/60000 [==============================] - 21s 357us/step - loss: 0.0142 - acc: 0.9950\n",
            "Epoch 16/30\n",
            "60000/60000 [==============================] - 21s 357us/step - loss: 0.0130 - acc: 0.9956\n",
            "Epoch 17/30\n",
            "60000/60000 [==============================] - 21s 358us/step - loss: 0.0122 - acc: 0.9956\n",
            "Epoch 18/30\n",
            "60000/60000 [==============================] - 22s 359us/step - loss: 0.0110 - acc: 0.9965\n",
            "Epoch 19/30\n",
            "60000/60000 [==============================] - 21s 357us/step - loss: 0.0109 - acc: 0.9965\n",
            "Epoch 20/30\n",
            "60000/60000 [==============================] - 22s 359us/step - loss: 0.0105 - acc: 0.9964\n",
            "Epoch 21/30\n",
            "60000/60000 [==============================] - 21s 358us/step - loss: 0.0093 - acc: 0.9968\n",
            "Epoch 22/30\n",
            "60000/60000 [==============================] - 22s 359us/step - loss: 0.0091 - acc: 0.9972\n",
            "Epoch 23/30\n",
            "60000/60000 [==============================] - 22s 362us/step - loss: 0.0079 - acc: 0.9976\n",
            "Epoch 24/30\n",
            "60000/60000 [==============================] - 22s 364us/step - loss: 0.0097 - acc: 0.9969\n",
            "Epoch 25/30\n",
            "60000/60000 [==============================] - 21s 354us/step - loss: 0.0089 - acc: 0.9970\n",
            "Epoch 26/30\n",
            "60000/60000 [==============================] - 21s 349us/step - loss: 0.0088 - acc: 0.9970\n",
            "Epoch 27/30\n",
            "60000/60000 [==============================] - 21s 347us/step - loss: 0.0087 - acc: 0.9973\n",
            "Epoch 28/30\n",
            "60000/60000 [==============================] - 21s 349us/step - loss: 0.0068 - acc: 0.9978\n",
            "Epoch 29/30\n",
            "60000/60000 [==============================] - 21s 347us/step - loss: 0.0076 - acc: 0.9974\n",
            "Epoch 30/30\n",
            "60000/60000 [==============================] - 21s 343us/step - loss: 0.0081 - acc: 0.9974\n"
          ],
          "name": "stdout"
        },
        {
          "output_type": "execute_result",
          "data": {
            "text/plain": [
              "<keras.callbacks.History at 0x7f5de9668cf8>"
            ]
          },
          "metadata": {
            "tags": []
          },
          "execution_count": 25
        }
      ]
    },
    {
      "cell_type": "code",
      "metadata": {
        "id": "i7b9-ibUVC8v",
        "colab_type": "code",
        "colab": {}
      },
      "source": [
        "score = model.evaluate(X_test, Y_test, verbose=0)"
      ],
      "execution_count": 0,
      "outputs": []
    },
    {
      "cell_type": "code",
      "metadata": {
        "id": "eG5B8WhOVDBG",
        "colab_type": "code",
        "outputId": "e70e9014-16e8-45ba-ca45-0863c0d2c6eb",
        "colab": {
          "base_uri": "https://localhost:8080/",
          "height": 34
        }
      },
      "source": [
        "print(score)"
      ],
      "execution_count": 0,
      "outputs": [
        {
          "output_type": "stream",
          "text": [
            "[0.04478499390205707, 0.9905]\n"
          ],
          "name": "stdout"
        }
      ]
    },
    {
      "cell_type": "code",
      "metadata": {
        "id": "-oqn0XZ5VJoX",
        "colab_type": "code",
        "colab": {}
      },
      "source": [
        "y_pred = model.predict(X_test)"
      ],
      "execution_count": 0,
      "outputs": []
    },
    {
      "cell_type": "code",
      "metadata": {
        "id": "5gocRXprVJs1",
        "colab_type": "code",
        "outputId": "945a48b6-1c60-481d-8c3d-016b4dbf3445",
        "colab": {
          "base_uri": "https://localhost:8080/",
          "height": 493
        }
      },
      "source": [
        "print(y_pred[:9])\n",
        "print(y_test[:9])"
      ],
      "execution_count": 0,
      "outputs": [
        {
          "output_type": "stream",
          "text": [
            "[[9.52300746e-17 2.16108363e-17 1.57313615e-12 8.89229845e-09\n",
            "  5.63099071e-25 1.01049886e-16 1.23593947e-35 1.00000000e+00\n",
            "  1.47823608e-16 5.66889634e-12]\n",
            " [5.10148391e-12 1.81796006e-12 1.00000000e+00 4.99701219e-24\n",
            "  4.95597711e-21 3.65996100e-27 2.02422457e-19 5.58863824e-26\n",
            "  1.24646200e-17 7.72810799e-31]\n",
            " [3.50161176e-15 1.00000000e+00 4.13139828e-10 2.77021149e-17\n",
            "  3.72419748e-08 8.81137163e-10 2.57266657e-14 1.45434859e-10\n",
            "  2.61302735e-09 4.49074024e-12]\n",
            " [1.00000000e+00 6.35312232e-21 2.08681906e-16 4.83272621e-19\n",
            "  4.96484292e-17 4.11483742e-17 1.68834917e-13 2.43020427e-27\n",
            "  2.67094345e-18 1.13424266e-15]\n",
            " [9.61311361e-19 3.39525556e-20 2.04175340e-17 3.71544967e-23\n",
            "  1.00000000e+00 7.29111808e-21 3.81134121e-17 2.57567338e-20\n",
            "  6.18573338e-17 6.95025905e-13]\n",
            " [1.70946275e-14 1.00000000e+00 1.25802013e-09 4.56027071e-18\n",
            "  1.61272915e-08 1.00045987e-11 4.25908664e-15 6.42846332e-10\n",
            "  1.32338973e-09 2.78229467e-10]\n",
            " [2.31739377e-36 1.87470262e-19 3.28783912e-16 7.46567597e-20\n",
            "  9.99999762e-01 1.03569379e-16 9.40120251e-21 1.24946753e-14\n",
            "  2.72530958e-08 2.19933824e-07]\n",
            " [3.17579742e-24 3.03114382e-15 1.90498472e-15 5.96639685e-17\n",
            "  4.42127623e-09 1.05675323e-10 3.98463208e-25 8.83088199e-19\n",
            "  3.76258676e-13 1.00000000e+00]\n",
            " [3.56556010e-23 2.76181781e-23 1.52896042e-23 3.84255914e-16\n",
            "  4.26206679e-22 4.79145497e-01 4.62490857e-01 7.20383866e-23\n",
            "  5.83636835e-02 9.55861646e-16]]\n",
            "[7 2 1 0 4 1 4 9 5]\n"
          ],
          "name": "stdout"
        }
      ]
    },
    {
      "cell_type": "code",
      "metadata": {
        "id": "AqMq7TVZVOp-",
        "colab_type": "code",
        "colab": {}
      },
      "source": [
        "layer_dict = dict([(layer.name, layer) for layer in model.layers])"
      ],
      "execution_count": 0,
      "outputs": []
    },
    {
      "cell_type": "code",
      "metadata": {
        "id": "YlMUzcONVOuV",
        "colab_type": "code",
        "outputId": "f6d12ade-0cac-43a0-cd53-2b0076103cdd",
        "colab": {
          "base_uri": "https://localhost:8080/",
          "height": 837
        }
      },
      "source": [
        "import numpy as np\n",
        "from matplotlib import pyplot as plt\n",
        "from keras import backend as K\n",
        "%matplotlib inline\n",
        "# util function to convert a tensor into a valid image\n",
        "def deprocess_image(x):\n",
        "    # normalize tensor: center on 0., ensure std is 0.1\n",
        "    x -= x.mean()\n",
        "    x /= (x.std() + 1e-5)\n",
        "    x *= 0.1\n",
        "\n",
        "    # clip to [0, 1]\n",
        "    x += 0.5\n",
        "    x = np.clip(x, 0, 1)\n",
        "\n",
        "    # convert to RGB array\n",
        "    x *= 255\n",
        "    #x = x.transpose((1, 2, 0))\n",
        "    x = np.clip(x, 0, 255).astype('uint8')\n",
        "    return x\n",
        "\n",
        "def vis_img_in_filter(img = np.array(X_train[2]).reshape((1, 28, 28, 1)).astype(np.float64), \n",
        "                      layer_name = 'conv2d_18'):\n",
        "    layer_output = layer_dict[layer_name].output\n",
        "    img_ascs = list()\n",
        "    for filter_index in range(layer_output.shape[3]):\n",
        "        # build a loss function that maximizes the activation\n",
        "        # of the nth filter of the layer considered\n",
        "        loss = K.mean(layer_output[:, :, :, filter_index])\n",
        "\n",
        "        # compute the gradient of the input picture wrt this loss\n",
        "        grads = K.gradients(loss, model.input)[0]\n",
        "\n",
        "        # normalization trick: we normalize the gradient\n",
        "        grads /= (K.sqrt(K.mean(K.square(grads))) + 1e-5)\n",
        "\n",
        "        # this function returns the loss and grads given the input picture\n",
        "        iterate = K.function([model.input], [loss, grads])\n",
        "\n",
        "        # step size for gradient ascent\n",
        "        step = 5.\n",
        "\n",
        "        img_asc = np.array(img)\n",
        "        # run gradient ascent for 20 steps\n",
        "        for i in range(20):\n",
        "            loss_value, grads_value = iterate([img_asc])\n",
        "            img_asc += grads_value * step\n",
        "\n",
        "        img_asc = img_asc[0]\n",
        "        img_ascs.append(deprocess_image(img_asc).reshape((28, 28)))\n",
        "        \n",
        "    if layer_output.shape[3] >= 35:\n",
        "        plot_x, plot_y = 6, 6\n",
        "    elif layer_output.shape[3] >= 23:\n",
        "        plot_x, plot_y = 4, 6\n",
        "    elif layer_output.shape[3] >= 11:\n",
        "        plot_x, plot_y = 2, 6\n",
        "    else:\n",
        "        plot_x, plot_y = 1, 2\n",
        "    fig, ax = plt.subplots(plot_x, plot_y, figsize = (12, 12))\n",
        "    ax[0, 0].imshow(img.reshape((28, 28)), cmap = 'gray')\n",
        "    ax[0, 0].set_title('Input image')\n",
        "    fig.suptitle('Input image and %s filters' % (layer_name,))\n",
        "    fig.tight_layout(pad = 0.3, rect = [0, 0, 0.9, 0.9])\n",
        "    for (x, y) in [(i, j) for i in range(plot_x) for j in range(plot_y)]:\n",
        "        if x == 0 and y == 0:\n",
        "            continue\n",
        "        ax[x, y].imshow(img_ascs[x * plot_y + y - 1], cmap = 'gray')\n",
        "        ax[x, y].set_title('filter %d' % (x * plot_y + y - 1))\n",
        "\n",
        "vis_img_in_filter()"
      ],
      "execution_count": 0,
      "outputs": [
        {
          "output_type": "display_data",
          "data": {
            "image/png": "[encoded data removed]",
            "text/plain": [
              "<Figure size 864x864 with 24 Axes>"
            ]
          },
          "metadata": {
            "tags": []
          }
        }
      ]
    },
    {
      "cell_type": "code",
      "metadata": {
        "id": "AjRrjcldwttT",
        "colab_type": "code",
        "colab": {}
      },
      "source": [
        ""
      ],
      "execution_count": 0,
      "outputs": []
    }
  ]
}